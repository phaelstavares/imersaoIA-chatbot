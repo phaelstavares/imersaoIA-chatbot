{
  "nbformat": 4,
  "nbformat_minor": 0,
  "metadata": {
    "colab": {
      "provenance": []
    },
    "kernelspec": {
      "name": "python3",
      "display_name": "Python 3"
    },
    "language_info": {
      "name": "python"
    }
  },
  "cells": [
    {
      "cell_type": "markdown",
      "source": [
        "Instalando o SDK do Google"
      ],
      "metadata": {
        "id": "iSuZUiFLVtO5"
      }
    },
    {
      "cell_type": "code",
      "execution_count": null,
      "metadata": {
        "id": "mlRFvwieVq_q"
      },
      "outputs": [],
      "source": [
        "!pip install -q -U google-generativeai"
      ]
    },
    {
      "cell_type": "code",
      "source": [
        "import google.generativeai as genai\n",
        "\n",
        "GOOGLE_API_KEY=\"PEGAR A API KEY NO: https://aistudio.google.com/app/apikey E COLOCAR AQUI! (A API KEY NÃO DEVE SER COMPARTILHADA)\"\n",
        "genai.configure(api_key=GOOGLE_API_KEY)"
      ],
      "metadata": {
        "id": "FZrBiM2mWRqR"
      },
      "execution_count": null,
      "outputs": []
    },
    {
      "cell_type": "markdown",
      "source": [
        "Listar os modelos disponíveis"
      ],
      "metadata": {
        "id": "MI0H5REZWsri"
      }
    },
    {
      "cell_type": "code",
      "source": [
        "for m in genai.list_models():\n",
        "  if \"generateContent\" in m.supported_generation_methods:\n",
        "    print(m.name)"
      ],
      "metadata": {
        "colab": {
          "base_uri": "https://localhost:8080/",
          "height": 139
        },
        "id": "mmuie9gLWrUy",
        "outputId": "18dabb32-bb42-4095-a4e3-cc449ed95209"
      },
      "execution_count": null,
      "outputs": [
        {
          "output_type": "stream",
          "name": "stdout",
          "text": [
            "models/gemini-1.0-pro\n",
            "models/gemini-1.0-pro-001\n",
            "models/gemini-1.0-pro-latest\n",
            "models/gemini-1.0-pro-vision-latest\n",
            "models/gemini-1.5-pro-latest\n",
            "models/gemini-pro\n",
            "models/gemini-pro-vision\n"
          ]
        }
      ]
    },
    {
      "cell_type": "code",
      "source": [
        "config = {\n",
        "    \"candidate_count\": 1,\n",
        "    \"temperature\": 0.5,\n",
        "}"
      ],
      "metadata": {
        "id": "lqC94x7mZB4y"
      },
      "execution_count": null,
      "outputs": []
    },
    {
      "cell_type": "code",
      "source": [
        "settings = {\n",
        "    \"HARASSMENT\": \"BLOCK_NONE\",\n",
        "    \"HATE\": \"BLOCK_NONE\",\n",
        "    \"SEXUAL\": \"BLOCK_NONE\",\n",
        "    \"DANGEROUS\": \"BLOCK_NONE\",\n",
        "}"
      ],
      "metadata": {
        "id": "Ogoh4c67bOJF"
      },
      "execution_count": null,
      "outputs": []
    },
    {
      "cell_type": "markdown",
      "source": [
        "Inicializando o modelo"
      ],
      "metadata": {
        "id": "Y-FXcHdWdLzx"
      }
    },
    {
      "cell_type": "code",
      "source": [
        "model = genai.GenerativeModel(model_name=\"gemini-1.0-pro\", generation_config=config, safety_settings=settings)"
      ],
      "metadata": {
        "id": "N9hn5LY_dQM5"
      },
      "execution_count": null,
      "outputs": []
    },
    {
      "cell_type": "code",
      "source": [
        "response = model.generate_content(\"Vamos aprender conteúdos sobre IA. Me dê sugestões.\")\n",
        "print(response.text)"
      ],
      "metadata": {
        "colab": {
          "base_uri": "https://localhost:8080/",
          "height": 781
        },
        "id": "_JIoBQLfeU5a",
        "outputId": "eef5e757-5796-4af8-c638-c6c0c41a7179"
      },
      "execution_count": null,
      "outputs": [
        {
          "output_type": "stream",
          "name": "stdout",
          "text": [
            "**Conceitos Fundamentais**\n",
            "\n",
            "* Definição e histórico da Inteligência Artificial (IA)\n",
            "* Tipos de IA (fraca, forte e geral)\n",
            "* Aprendizado de máquina, aprendizado profundo e redes neurais\n",
            "* Processamento de linguagem natural (PNL)\n",
            "* Visão computacional\n",
            "\n",
            "**Aplicações da IA**\n",
            "\n",
            "* Automatização de processos\n",
            "* Diagnóstico e tratamento médico\n",
            "* Veículos autônomos\n",
            "* Reconhecimento de imagem e fala\n",
            "* Chatbots e assistentes virtuais\n",
            "* Análise preditiva e tomada de decisão\n",
            "\n",
            "**Ética e Implicações Sociais da IA**\n",
            "\n",
            "* Viés e discriminação na IA\n",
            "* Impacto no emprego e na economia\n",
            "* Privacidade e vigilância\n",
            "* Regulamentação e governança da IA\n",
            "\n",
            "**Técnicas de Desenvolvimento de IA**\n",
            "\n",
            "* Linguagens de programação para IA (Python, R, TensorFlow)\n",
            "* Bibliotecas e ferramentas de IA\n",
            "* Treinamento e avaliação de modelos de IA\n",
            "* Implantação e manutenção de sistemas de IA\n",
            "\n",
            "**Tendências e Avanços em IA**\n",
            "\n",
            "* IA generativa (por exemplo, ChatGPT)\n",
            "* IA quântica\n",
            "* IA de borda\n",
            "* IA explicável e confiável\n",
            "\n",
            "**Recursos Adicionais**\n",
            "\n",
            "* **Cursos online:** Coursera, edX, Udacity\n",
            "* **Livros:** \"Inteligência Artificial: Uma Abordagem Moderna\" (Stuart Russell e Peter Norvig), \"Aprendizado de Máquina\" (Tom Mitchell)\n",
            "* **Revistas:** Nature Machine Intelligence, IEEE Transactions on Artificial Intelligence\n",
            "* **Conferências:** NeurIPS, ICML, CVPR\n"
          ]
        }
      ]
    },
    {
      "cell_type": "code",
      "source": [
        "chat = model.start_chat(history=[])"
      ],
      "metadata": {
        "id": "J6xonetzfLRz"
      },
      "execution_count": null,
      "outputs": []
    },
    {
      "cell_type": "code",
      "source": [
        "prompt = input(\"Esperando prompt: \")\n",
        "\n",
        "while prompt != \"fim\":\n",
        "  response = chat.send_message(prompt)\n",
        "  print(\"Resposta: \", response.text, \"\\n\")\n",
        "  prompt = input(\"Esperando prompt: \")"
      ],
      "metadata": {
        "id": "sNZMyeSbftxC",
        "colab": {
          "base_uri": "https://localhost:8080/",
          "height": 86
        },
        "outputId": "4469089a-7da3-4504-8909-54e024b2a794"
      },
      "execution_count": 17,
      "outputs": [
        {
          "name": "stdout",
          "output_type": "stream",
          "text": [
            "Esperando prompt: Oi\n",
            "Resposta:  Olá! Como posso ajudá-lo hoje? \n",
            "\n",
            "Esperando prompt: fim\n"
          ]
        }
      ]
    },
    {
      "cell_type": "code",
      "source": [
        "#Melhorando a visualização\n",
        "#Código disponível em https://ai.google.dev/tutorials/python_quickstart#import_packages\n",
        "import textwrap\n",
        "from IPython.display import display\n",
        "from IPython.display import Markdown\n",
        "\n",
        "def to_markdown(text):\n",
        "  text = text.replace('•', '  *')\n",
        "  return Markdown(textwrap.indent(text, '> ', predicate=lambda _: True))\n",
        "\n",
        "#Imprimindo o histórico\n",
        "for message in chat.history:\n",
        "  display(to_markdown(f'**{message.role}**: {message.parts[0].text}'))\n",
        "  print('-------------------------------------------')"
      ],
      "metadata": {
        "colab": {
          "base_uri": "https://localhost:8080/",
          "height": 827
        },
        "id": "emehToiMuc-u",
        "outputId": "d5b0480a-048f-4094-e7d7-a71a6d1eee5b"
      },
      "execution_count": 18,
      "outputs": [
        {
          "output_type": "display_data",
          "data": {
            "text/plain": [
              "<IPython.core.display.Markdown object>"
            ],
            "text/markdown": "> **user**: OI"
          },
          "metadata": {}
        },
        {
          "output_type": "stream",
          "name": "stdout",
          "text": [
            "-------------------------------------------\n"
          ]
        },
        {
          "output_type": "display_data",
          "data": {
            "text/plain": [
              "<IPython.core.display.Markdown object>"
            ],
            "text/markdown": "> **model**: Olá! Como posso ajudá-lo hoje?"
          },
          "metadata": {}
        },
        {
          "output_type": "stream",
          "name": "stdout",
          "text": [
            "-------------------------------------------\n"
          ]
        },
        {
          "output_type": "display_data",
          "data": {
            "text/plain": [
              "<IPython.core.display.Markdown object>"
            ],
            "text/markdown": "> **user**: Quero que me fale brevemente oque é IA"
          },
          "metadata": {}
        },
        {
          "output_type": "stream",
          "name": "stdout",
          "text": [
            "-------------------------------------------\n"
          ]
        },
        {
          "output_type": "display_data",
          "data": {
            "text/plain": [
              "<IPython.core.display.Markdown object>"
            ],
            "text/markdown": "> **model**: **Inteligência Artificial (IA)**\n> \n> A IA é um campo da ciência da computação que se concentra no desenvolvimento de máquinas que podem executar tarefas que normalmente requerem inteligência humana, como:\n> \n> * **Aprendizado de máquina:** Capacidade de aprender com dados sem programação explícita.\n> * **Processamento de linguagem natural:** Capacidade de entender e gerar linguagem humana.\n> * **Visão computacional:** Capacidade de \"ver\" e interpretar imagens e vídeos.\n> * **Tomada de decisão:** Capacidade de analisar informações e tomar decisões informadas.\n> * **Resolução de problemas:** Capacidade de identificar e resolver problemas complexos.\n> \n> A IA tem uma ampla gama de aplicações, incluindo:\n> \n> * Automação de tarefas\n> * Análise de dados\n> * Diagnóstico médico\n> * Carros autônomos\n> * Assistentes pessoais virtuais"
          },
          "metadata": {}
        },
        {
          "output_type": "stream",
          "name": "stdout",
          "text": [
            "-------------------------------------------\n"
          ]
        },
        {
          "output_type": "display_data",
          "data": {
            "text/plain": [
              "<IPython.core.display.Markdown object>"
            ],
            "text/markdown": "> **user**: Resume mais"
          },
          "metadata": {}
        },
        {
          "output_type": "stream",
          "name": "stdout",
          "text": [
            "-------------------------------------------\n"
          ]
        },
        {
          "output_type": "display_data",
          "data": {
            "text/plain": [
              "<IPython.core.display.Markdown object>"
            ],
            "text/markdown": "> **model**: **IA (Inteligência Artificial)**\n> \n> * Máquinas que executam tarefas que normalmente requerem inteligência humana.\n> * Inclui aprendizado de máquina, processamento de linguagem natural, visão computacional, tomada de decisão e resolução de problemas.\n> * Aplicações: automação, análise de dados, diagnóstico médico, carros autônomos, assistentes pessoais virtuais."
          },
          "metadata": {}
        },
        {
          "output_type": "stream",
          "name": "stdout",
          "text": [
            "-------------------------------------------\n"
          ]
        },
        {
          "output_type": "display_data",
          "data": {
            "text/plain": [
              "<IPython.core.display.Markdown object>"
            ],
            "text/markdown": "> **user**: Oi"
          },
          "metadata": {}
        },
        {
          "output_type": "stream",
          "name": "stdout",
          "text": [
            "-------------------------------------------\n"
          ]
        },
        {
          "output_type": "display_data",
          "data": {
            "text/plain": [
              "<IPython.core.display.Markdown object>"
            ],
            "text/markdown": "> **model**: Olá! Como posso ajudá-lo hoje?"
          },
          "metadata": {}
        },
        {
          "output_type": "stream",
          "name": "stdout",
          "text": [
            "-------------------------------------------\n"
          ]
        }
      ]
    }
  ]
}